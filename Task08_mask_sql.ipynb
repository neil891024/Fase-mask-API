{
  "nbformat": 4,
  "nbformat_minor": 0,
  "metadata": {
    "colab": {
      "provenance": [],
      "authorship_tag": "ABX9TyML+YcNxTqrrsE1oGd/t8P2",
      "include_colab_link": true
    },
    "kernelspec": {
      "name": "python3",
      "display_name": "Python 3"
    },
    "language_info": {
      "name": "python"
    }
  },
  "cells": [
    {
      "cell_type": "markdown",
      "metadata": {
        "id": "view-in-github",
        "colab_type": "text"
      },
      "source": [
        "<a href=\"https://colab.research.google.com/github/neil891024/mask_map/blob/main/Task08_mask_sql.ipynb\" target=\"_parent\"><img src=\"https://colab.research.google.com/assets/colab-badge.svg\" alt=\"Open In Colab\"/></a>"
      ]
    },
    {
      "cell_type": "code",
      "execution_count": 2,
      "metadata": {
        "id": "gbHGmSIfADSY"
      },
      "outputs": [],
      "source": [
        "import sqlite3\n",
        "import datetime\n",
        "import requests\n",
        "import json"
      ]
    },
    {
      "cell_type": "code",
      "source": [
        "conn = sqlite3.connect('example.db')\n",
        "c = conn.cursor()\n",
        "\n",
        "# 新增且清空資料表\n",
        "c.execute('''CREATE TABLE IF NOT EXISTS pharmacies\n",
        "             (city text, counts text, createdAt datetime)''')\n",
        "c.execute('''DELETE FROM pharmacies''')\n",
        "conn.commit()\n",
        "\n",
        "# 新增資料\n",
        "url = 'https://raw.githubusercontent.com/kiang/pharmacies/master/json/points.json'\n",
        "response = requests.get(url)\n",
        "d = response.text\n",
        "data = json.loads(d)\n",
        "\n",
        "#計算各地區的藥局數量\n",
        "med_count = {}\n",
        "\n",
        "for d in data['features']:\n",
        "    conunty = d['properties']['county']\n",
        "    if conunty not in med_count: #判斷城市是否有重複加入\n",
        "        med_count[conunty] = 0\n",
        "    if conunty in med_count:\n",
        "        med_count[conunty] += 1\n",
        "\n",
        "for city,counts in med_count.items():\n",
        "    t = datetime.datetime.now()\n",
        "    c.execute(f\"INSERT INTO pharmacies VALUES ('{city}',{counts},'{t}')\")\n",
        "    conn.commit()\n",
        "\n",
        "# 查詢資料\n",
        "c.execute(\"SELECT * FROM pharmacies\")\n",
        "print(c.fetchall())\n",
        "conn.commit()\n",
        "conn.close()"
      ],
      "metadata": {
        "colab": {
          "base_uri": "https://localhost:8080/"
        },
        "id": "je_8gS8vDrrO",
        "outputId": "2f00ac10-8847-48bb-9083-0dc19ab2cb49"
      },
      "execution_count": 9,
      "outputs": [
        {
          "output_type": "stream",
          "name": "stdout",
          "text": [
            "[('臺北市', '339', '2023-04-04 11:50:13.896607'), ('', '49', '2023-04-04 11:50:13.908745'), ('高雄市', '422', '2023-04-04 11:50:13.917322'), ('臺中市', '420', '2023-04-04 11:50:13.925353'), ('臺南市', '271', '2023-04-04 11:50:13.933589'), ('基隆市', '57', '2023-04-04 11:50:13.941815'), ('新竹市', '39', '2023-04-04 11:50:13.951747'), ('嘉義市', '67', '2023-04-04 11:50:13.959865'), ('新北市', '501', '2023-04-04 11:50:13.968462'), ('桃園市', '264', '2023-04-04 11:50:13.980372'), ('新竹縣', '46', '2023-04-04 11:50:13.989232'), ('宜蘭縣', '76', '2023-04-04 11:50:13.998275'), ('苗栗縣', '56', '2023-04-04 11:50:14.007543'), ('彰化縣', '179', '2023-04-04 11:50:14.016077'), ('南投縣', '67', '2023-04-04 11:50:14.024393'), ('雲林縣', '129', '2023-04-04 11:50:14.033347'), ('嘉義縣', '84', '2023-04-04 11:50:14.042381'), ('屏東縣', '140', '2023-04-04 11:50:14.050273'), ('澎湖縣', '11', '2023-04-04 11:50:14.059156'), ('花蓮縣', '46', '2023-04-04 11:50:14.067750'), ('臺東縣', '23', '2023-04-04 11:50:14.076819'), ('金門縣', '6', '2023-04-04 11:50:14.085819'), ('連江縣', '1', '2023-04-04 11:50:14.094260')]\n"
          ]
        }
      ]
    },
    {
      "cell_type": "code",
      "source": [
        "conn = sqlite3.connect('example.db')\n",
        "c = conn.cursor()\n",
        "\n",
        "# 新增且清空資料表\n",
        "c.execute('''CREATE TABLE IF NOT EXISTS masks\n",
        "             (city text, counts text, createdAt datetime)''')\n",
        "c.execute('''DELETE FROM masks''')\n",
        "conn.commit()\n",
        "\n",
        "# 新增資料\n",
        "url = 'https://raw.githubusercontent.com/kiang/pharmacies/master/json/points.json'\n",
        "response = requests.get(url)\n",
        "d = response.text\n",
        "data = json.loads(d)\n",
        "\n",
        "#計算出每個地區的成人剩餘口罩數量\n",
        "mask_count = {}\n",
        "\n",
        "# 填入欄位名稱\n",
        "for d in data['features']:\n",
        "  conunty = d['properties']['county']\n",
        "  if conunty not in mask_count: #判斷城市是否有重複加入\n",
        "      mask_count[conunty] = 0\n",
        "  if conunty in mask_count:\n",
        "      mask_count[conunty] += d['properties']['mask_adult'] #計算成人口罩數量\n",
        "\n",
        "  c.execute(f\"INSERT INTO masks VALUES ('{city}', {counts}, '{t}')\")\n",
        "  conn.commit()\n",
        "\n",
        "# 查詢資料\n",
        "c.execute(\"SELECT * FROM masks\")\n",
        "print(c.fetchall)\n",
        "conn.commit()\n",
        "conn.close()"
      ],
      "metadata": {
        "colab": {
          "base_uri": "https://localhost:8080/"
        },
        "id": "21Khq6O0HTCh",
        "outputId": "ab324ef5-abfb-4cef-8cd6-75a65b40a66a"
      },
      "execution_count": 10,
      "outputs": [
        {
          "output_type": "stream",
          "name": "stdout",
          "text": [
            "<built-in method fetchall of sqlite3.Cursor object at 0x7fded7c662d0>\n"
          ]
        }
      ]
    }
  ]
}