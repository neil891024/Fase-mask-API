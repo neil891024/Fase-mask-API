{
  "nbformat": 4,
  "nbformat_minor": 0,
  "metadata": {
    "colab": {
      "provenance": [],
      "authorship_tag": "ABX9TyPVVC4VBkx2opWgJtchKnpb",
      "include_colab_link": true
    },
    "kernelspec": {
      "name": "python3",
      "display_name": "Python 3"
    },
    "language_info": {
      "name": "python"
    }
  },
  "cells": [
    {
      "cell_type": "markdown",
      "metadata": {
        "id": "view-in-github",
        "colab_type": "text"
      },
      "source": [
        "<a href=\"https://colab.research.google.com/github/neil891024/mask_map/blob/main/Task07_mask_map.ipynb\" target=\"_parent\"><img src=\"https://colab.research.google.com/assets/colab-badge.svg\" alt=\"Open In Colab\"/></a>"
      ]
    },
    {
      "cell_type": "code",
      "source": [
        "import requests\n",
        "import json"
      ],
      "metadata": {
        "id": "Q21Kon6-XLYh"
      },
      "execution_count": null,
      "outputs": []
    },
    {
      "cell_type": "code",
      "source": [
        "# 利用 requests 對 API 來源發送一個請求\n",
        "url = 'https://raw.githubusercontent.com/kiang/pharmacies/master/json/points.json'\n",
        "response = requests.get(url)\n",
        "\n",
        "# 將請求回應的內容存成一個字串格式\n",
        "d = response.text\n",
        "\n",
        "# 將長得像 json 格式的字串解析成字典或列表\n",
        "data = json.loads(d)\n",
        "\n",
        "print(data)"
      ],
      "metadata": {
        "colab": {
          "base_uri": "https://localhost:8080/"
        },
        "id": "PVDA6K4ZXLwQ",
        "outputId": "e0e900a6-91c1-4187-a1df-a6b7dc485820"
      },
      "execution_count": null,
      "outputs": [
        {
          "output_type": "stream",
          "name": "stderr",
          "text": [
            "IOPub data rate exceeded.\n",
            "The notebook server will temporarily stop sending output\n",
            "to the client in order to avoid crashing it.\n",
            "To change this limit, set the config variable\n",
            "`--NotebookApp.iopub_data_rate_limit`.\n",
            "\n",
            "Current values:\n",
            "NotebookApp.iopub_data_rate_limit=1000000.0 (bytes/sec)\n",
            "NotebookApp.rate_limit_window=3.0 (secs)\n",
            "\n"
          ]
        }
      ]
    },
    {
      "cell_type": "code",
      "source": [
        "#計算各地區的藥局數量\n",
        "med_count = {}\n",
        "\n",
        "for d in data['features']:\n",
        "    conunty = d['properties']['county']\n",
        "    if conunty not in med_count: #判斷城市是否有重複加入\n",
        "        med_count[conunty] = 0\n",
        "    if conunty in med_count:\n",
        "        med_count[conunty] += 1\n",
        "print(med_count)\n",
        "# {'台北市': 123, '新北市': 456 ...}"
      ],
      "metadata": {
        "colab": {
          "base_uri": "https://localhost:8080/"
        },
        "id": "_jLpKdo1XTyl",
        "outputId": "935d3a70-dd87-4fd1-bbe7-50304ccbfcde"
      },
      "execution_count": null,
      "outputs": [
        {
          "output_type": "stream",
          "name": "stdout",
          "text": [
            "{'臺北市': 339, '': 49, '高雄市': 422, '臺中市': 420, '臺南市': 271, '基隆市': 57, '新竹市': 39, '嘉義市': 67, '新北市': 501, '桃園市': 264, '新竹縣': 46, '宜蘭縣': 76, '苗栗縣': 56, '彰化縣': 179, '南投縣': 67, '雲林縣': 129, '嘉義縣': 84, '屏東縣': 140, '澎湖縣': 11, '花蓮縣': 46, '臺東縣': 23, '金門縣': 6, '連江縣': 1}\n"
          ]
        }
      ]
    },
    {
      "cell_type": "code",
      "source": [
        "#計算出每個地區的成人剩餘口罩數量\n",
        "mask_count = {}\n",
        "\n",
        "# 填入欄位名稱\n",
        "for d in data['features']:\n",
        "    conunty = d['properties']['county']\n",
        "    if conunty not in mask_count: #判斷城市是否有重複加入\n",
        "        mask_count[conunty] = 0\n",
        "    if conunty in mask_count:\n",
        "        mask_count[conunty] += d['properties']['mask_adult'] #計算成人口罩數量\n",
        "\n",
        "# 將結果從大到小排列\n",
        "mask_count = dict(sorted(mask_count.items(), key=lambda item: item[1]))\n",
        "#items()印出字典的所有元素 lambda按每個列表的最大值排序\n",
        "print(mask_count)\n",
        "# {'台北市': 12345, '新北市': 45678 ...}"
      ],
      "metadata": {
        "colab": {
          "base_uri": "https://localhost:8080/"
        },
        "id": "QfChG2dCnx80",
        "outputId": "d5ef482e-38fc-46d7-8e0d-c05140c1a5c6"
      },
      "execution_count": null,
      "outputs": [
        {
          "output_type": "stream",
          "name": "stdout",
          "text": [
            "{'連江縣': 7930, '澎湖縣': 12600, '金門縣': 15510, '臺東縣': 28510, '新竹市': 45630, '新竹縣': 51350, '花蓮縣': 57330, '': 69210, '基隆市': 80100, '南投縣': 91240, '宜蘭縣': 106900, '嘉義市': 107840, '嘉義縣': 113180, '苗栗縣': 131080, '屏東縣': 184250, '雲林縣': 196990, '彰化縣': 219400, '臺北市': 322490, '桃園市': 331940, '臺南市': 393900, '高雄市': 424170, '臺中市': 536710, '新北市': 670270}\n"
          ]
        }
      ]
    }
  ]
}